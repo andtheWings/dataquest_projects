{
 "cells": [
  {
   "cell_type": "markdown",
   "metadata": {},
   "source": [
    "First Dataquest Project\n",
    "===================\n",
    "\n",
    "## Learning how to use a Jupyter Notebook\n",
    "\n",
    "*The content below was a meta-exercise from the 'Python Fundamentals' course on how to work with Jupyter Notebooks.*"
   ]
  },
  {
   "cell_type": "markdown",
   "metadata": {},
   "source": [
    "### Loading Data\n",
    "\n",
    "The cell below illustrates how to load data from a csv file into python:\n",
    "\n",
    "1. Point the open() function to the path of your file, which returns a file object\n",
    "2. Import the reader() function from the 'csv' library\n",
    "3. Feed the file object into the reader() function, which returns a reader object that iterates through lines of the csv\n",
    "4. Feed the reader object into a list, which makes a list of lists, each corresponding to a row in the csv file\n",
    "5. Slice into the first 4 rows of the data to preview its contents"
   ]
  },
  {
   "cell_type": "code",
   "execution_count": 1,
   "metadata": {},
   "outputs": [
    {
     "data": {
      "text/plain": [
       "[['id',\n",
       "  'track_name',\n",
       "  'size_bytes',\n",
       "  'currency',\n",
       "  'price',\n",
       "  'rating_count_tot',\n",
       "  'rating_count_ver',\n",
       "  'user_rating',\n",
       "  'user_rating_ver',\n",
       "  'ver',\n",
       "  'cont_rating',\n",
       "  'prime_genre',\n",
       "  'sup_devices.num',\n",
       "  'ipadSc_urls.num',\n",
       "  'lang.num',\n",
       "  'vpp_lic'],\n",
       " ['284882215',\n",
       "  'Facebook',\n",
       "  '389879808',\n",
       "  'USD',\n",
       "  '0.0',\n",
       "  '2974676',\n",
       "  '212',\n",
       "  '3.5',\n",
       "  '3.5',\n",
       "  '95.0',\n",
       "  '4+',\n",
       "  'Social Networking',\n",
       "  '37',\n",
       "  '1',\n",
       "  '29',\n",
       "  '1'],\n",
       " ['389801252',\n",
       "  'Instagram',\n",
       "  '113954816',\n",
       "  'USD',\n",
       "  '0.0',\n",
       "  '2161558',\n",
       "  '1289',\n",
       "  '4.5',\n",
       "  '4.0',\n",
       "  '10.23',\n",
       "  '12+',\n",
       "  'Photo & Video',\n",
       "  '37',\n",
       "  '0',\n",
       "  '29',\n",
       "  '1']]"
      ]
     },
     "execution_count": 1,
     "metadata": {},
     "output_type": "execute_result"
    }
   ],
   "source": [
    "opened_file = open('AppleStore.csv')\n",
    "from csv import reader\n",
    "read_file = reader(opened_file)\n",
    "data = list(read_file)\n",
    "data[:3]"
   ]
  },
  {
   "cell_type": "markdown",
   "metadata": {},
   "source": [
    "### About the data\n",
    "\n",
    "The data above was obtained from the public Kaggle dataset [Mobile App Store](https://www.kaggle.com/ramamet4/app-store-apple-data-set-10k-apps/), which is a snapshot from 2017 of the details 7000+ apps on the iOS App Store. See the data dictionary below:\n",
    "\n",
    "|Column Name       |Description                                    |\n",
    "|------------------|-----------------------------------------------|\n",
    "|'id'              |App ID                                         |\n",
    "|'track_name'      |App Name                                       |\n",
    "|'size_bytes'      |Size (in Bytes)                                |\n",
    "|'currency'        |Currency Type                                  |\n",
    "|'price'           |Price amount                                   |\n",
    "|'rating_count_tot'|User Rating counts (for all version)           |\n",
    "|'rating_count_ver'|User Rating counts (for current version)       |\n",
    "|'user_rating'     |Average User Rating value (for all version)    |\n",
    "|'user_rating_ver' |Average User Rating value (for current version)|\n",
    "|'ver'             |Latest version code                            |\n",
    "|'cont_rating'     |Content Rating                                 |\n",
    "|'prime_genre'     |Primary Genre                                  |\n",
    "|'sup_devices.num' |Number of supporting devices                   |\n",
    "|'ipadSc_urls.num' |Number of screenshots showed for display       |\n",
    "|'lang.num'        |Number of supported languages                  |\n",
    "|'vpp_lic'         |Vpp Device Based Licensing Enabled             |"
   ]
  }
 ],
 "metadata": {
  "kernelspec": {
   "display_name": "Python 3",
   "language": "python",
   "name": "python3"
  },
  "language_info": {
   "codemirror_mode": {
    "name": "ipython",
    "version": 3
   },
   "file_extension": ".py",
   "mimetype": "text/x-python",
   "name": "python",
   "nbconvert_exporter": "python",
   "pygments_lexer": "ipython3",
   "version": "3.9.5"
  }
 },
 "nbformat": 4,
 "nbformat_minor": 2
}